{
    "cells": [
        {
            "cell_type": "markdown",
            "id": "ac622319",
            "metadata": {},
            "source": [
                "# Descriptive statistics problems"
            ]
        },
        {
            "cell_type": "markdown",
            "id": "5e0ab0d5",
            "metadata": {},
            "source": [
                "### Exercise 1\n",
                "\n",
                "We will use NumPy to obtain information to describe statistically.\n",
                "\n",
                "- Generate an array of 100 elements following a normal distribution.\n",
                "- Generate an array of 100 elements following a chi-square distribution with 3 degrees of freedom.\n",
                "- Calculate the main metrics and statistical measures that best describe the two vectors."
            ]
        },
        {
            "cell_type": "code",
            "execution_count": 53,
            "id": "34720ab6",
            "metadata": {},
            "outputs": [],
            "source": [
                "# primero se importa la libreria numpy (listas)\n",
                "import numpy as np\n",
                "#creamos la lista con una distribución normal\n",
                "dtbn_normal = np.random.normal(size = 100)\n",
                "# creamos la lista con una distribución chi2 con los 3 grados de libertad\n",
                "dtbn_chi = np.random.chisquare(3, 100)"
            ]
        },
        {
            "cell_type": "code",
            "execution_count": 54,
            "id": "f90ff39c",
            "metadata": {},
            "outputs": [
                {
                    "name": "stdout",
                    "output_type": "stream",
                    "text": [
                        "[ 0.11872554  1.75081601 -0.62090666  1.20024991 -0.12026697  0.87962276\n",
                        " -1.91706415 -1.1464465   1.28324759 -0.24196593  1.44461008 -0.43057089\n",
                        "  0.03581749 -0.65056273 -0.63150209 -0.66387588 -0.53167713 -0.80199574\n",
                        "  1.20348459  0.805831   -0.77829652  0.30646373 -0.65880703 -1.54591973\n",
                        " -1.09509995 -1.57953454  1.58871267 -1.86305201  0.19579409  0.6809152\n",
                        " -1.09105619  1.43515855 -0.03569048 -0.83884796 -1.14764043  0.18727993\n",
                        "  1.42336444  1.40886951 -2.62660828 -1.16764013 -1.54332858 -0.52389637\n",
                        " -1.49636535 -0.45021665  0.07498304  0.38490761 -0.75231718  0.03851044\n",
                        " -0.61439666 -0.71660766 -1.33175188  0.32560775 -0.37533301  0.60722267\n",
                        "  0.4185193  -0.05406447  1.91915274 -0.5856671  -0.24795379 -0.31787438\n",
                        " -1.17291928 -1.18673831  0.45196961  1.25334875 -0.57271618  0.75822443\n",
                        " -0.27592743 -0.74572677  1.25770174  1.97342666  0.14878245 -0.59413946\n",
                        " -1.23842225 -1.66144551 -0.95430108 -2.38049124  0.44448468  0.85997142\n",
                        "  1.03326358 -0.8176071   0.12667812 -0.77717062  0.13282683  0.33486896\n",
                        "  1.33797926  1.6250749   0.06660919  0.53563156  0.21377079  1.26941149\n",
                        "  0.70242442 -0.56225509 -1.32823428  0.5884379  -0.64115306 -0.98046879\n",
                        "  1.72713404  1.36837257  0.82500361 -0.41404262]\n"
                    ]
                }
            ],
            "source": [
                "#imprimir la lista con distribución normal\n",
                "print(dtbn_normal)"
            ]
        },
        {
            "cell_type": "code",
            "execution_count": 55,
            "id": "63c86d2a",
            "metadata": {},
            "outputs": [
                {
                    "name": "stdout",
                    "output_type": "stream",
                    "text": [
                        "[ 3.33753729  2.55145964  3.88524664  3.16614688  2.38299194  6.59240105\n",
                        "  1.4138878   2.2647885   1.88018212  3.33674717  0.59474834  0.56241188\n",
                        "  1.06325098  0.18138008  4.14388465  1.17920359  1.68662724  6.27796409\n",
                        "  1.15869091  2.98817505  0.50089747  4.30607534  1.62483461  1.00219283\n",
                        "  0.23309089  6.04305166  3.79750605 12.58708024  4.16429032  2.96213922\n",
                        "  4.39043507  3.68219155  3.44686261  3.81576497  1.20449537  2.53402009\n",
                        "  1.92667601  3.60079207  0.42999054  7.85678093  0.31929231  3.98143056\n",
                        "  4.48472343  3.16918292  4.02692505  5.70235771  5.71929911  3.75520117\n",
                        "  2.06133343  0.23153573  1.29070909  1.36381108  1.80695597  3.96816416\n",
                        "  3.41293146  4.16007974  0.70244993  0.37613976  2.00504273  1.10970022\n",
                        "  4.43929613  2.01209274  2.82163851  3.51220639  0.31096645  4.72287872\n",
                        "  9.69155183  2.73245144  1.40996469  2.59364323  0.91902383  1.7930839\n",
                        "  2.39922141  0.83810414  1.95613303  1.95419954  2.74943165  3.30383535\n",
                        "  4.2289488   4.08429895  2.35801993  4.65820139  2.3646895   2.3666771\n",
                        "  7.93727198  0.27687354  3.43831375  8.1964473   0.68538108  1.28282625\n",
                        "  2.46541598  1.30092684  3.55473488  1.93520076  0.06864435  7.58024686\n",
                        "  6.99575844  0.83988848  0.63922056  0.98818261]\n"
                    ]
                }
            ],
            "source": [
                "#imprimir la lista con distribución chi2\n",
                "print(dtbn_chi)"
            ]
        },
        {
            "cell_type": "code",
            "execution_count": 56,
            "id": "fafa97c3",
            "metadata": {},
            "outputs": [],
            "source": [
                "#importamos la libreria para estadística descriptiva\n",
                "import statistics as stats\n"
            ]
        },
        {
            "cell_type": "code",
            "execution_count": 57,
            "id": "d988e447",
            "metadata": {},
            "outputs": [
                {
                    "name": "stdout",
                    "output_type": "stream",
                    "text": [
                        "Distribución normal:\n",
                        "Media: -0.08745296458983357, Mediana: -0.18111645250218822, Moda: 0.11872553641854562\n",
                        "Distribución Chi2\n",
                        "Media: 2.928100515191459, Mediana: 2.4997180363235074, Moda: 3.337537288296672\n"
                    ]
                }
            ],
            "source": [
                "#Para medidas de tendencia central creamos la media, mediana y moda para ambas listas\n",
                "mean_normal=stats.mean(dtbn_normal)\n",
                "mean_chi=stats.mean(dtbn_chi)\n",
                "\n",
                "median_normal=stats.median(dtbn_normal)\n",
                "median_chi=stats.median(dtbn_chi)\n",
                "\n",
                "mode_normal=stats.mode(dtbn_normal)\n",
                "mode_chi=stats.mode(dtbn_chi)\n",
                "\n",
                "print(f\"Distribución normal:\\nMedia: {mean_normal}, Mediana: {median_normal}, Moda: {mode_normal}\\nDistribución Chi2\\nMedia: {mean_chi}, Mediana: {median_chi}, Moda: {mode_chi}\")"
            ]
        },
        {
            "cell_type": "code",
            "execution_count": 58,
            "id": "371ce05e",
            "metadata": {},
            "outputs": [
                {
                    "name": "stdout",
                    "output_type": "stream",
                    "text": [
                        "Distribución Normal:\n",
                        "Rango: 4.600034943454412, Varianza: 1.0663122529470375, Desviación estándar: 1.0326239649296531\n",
                        "Distribución Chi2\n",
                        "Rango: 12.518435894640023, Mediana: 5.044160453925798, Desviación estándar: 2.245920847653763\n"
                    ]
                }
            ],
            "source": [
                "# Para medidas de dispersión: Rango, varianza y desviación estándar\n",
                "range_normal = max(dtbn_normal) - min(dtbn_normal)\n",
                "range_chi = max(dtbn_chi) - min(dtbn_chi)\n",
                "\n",
                "variance_normal = stats.variance(dtbn_normal)\n",
                "variance_chi = stats.variance(dtbn_chi)\n",
                "\n",
                "std_normal = stats.stdev(dtbn_normal)\n",
                "std_chi = stats.stdev(dtbn_chi)\n",
                "\n",
                "print(f\"Distribución Normal:\\nRango: {range_normal}, Varianza: {variance_normal}, Desviación estándar: {std_normal}\\nDistribución Chi2\\nRango: {range_chi}, Mediana: {variance_chi}, Desviación estándar: {std_chi}\")\n"
            ]
        },
        {
            "cell_type": "code",
            "execution_count": 59,
            "id": "cfdf9631",
            "metadata": {},
            "outputs": [
                {
                    "name": "stdout",
                    "output_type": "stream",
                    "text": [
                        "Distribución normal:\n",
                        "Asimetría: 0.044043949728700335, Curtosis-0.6462297775687031\n",
                        "Distribución Chi2:\n",
                        "Asimetría: 1.4503810020216699, Curtosis: -0.6462297775687031\n"
                    ]
                }
            ],
            "source": [
                "#Medidas de forma: Asimetría y Curtosis\n",
                "from scipy.stats import skew, kurtosis\n",
                "\n",
                "skew_normal = skew(dtbn_normal)\n",
                "skew_chi = skew(dtbn_chi)\n",
                "\n",
                "kurt_normal = kurtosis(dtbn_normal)\n",
                "kurt_chi = kurtosis(dtbn_chi)\n",
                "\n",
                "\n",
                "print(f\"Distribución normal:\\nAsimetría: {skew_normal}, Curtosis{kurt_normal}\\nDistribución Chi2:\\nAsimetría: {skew_chi}, Curtosis: {kurt_normal}\")\n",
                "\n",
                "\n"
            ]
        },
        {
            "cell_type": "markdown",
            "id": "46c70c3d",
            "metadata": {},
            "source": [
                "### Exercise 2\n",
                "\n",
                "Write a Python program to calculate the standard deviation of the following data:\n",
                "\n",
                "```py\n",
                "data = [4, 2, 5, 8, 6]\n",
                "```"
            ]
        },
        {
            "cell_type": "code",
            "execution_count": 60,
            "id": "7d8c0391",
            "metadata": {},
            "outputs": [
                {
                    "data": {
                        "text/plain": [
                            "[4, 2, 5, 8, 6]"
                        ]
                    },
                    "execution_count": 60,
                    "metadata": {},
                    "output_type": "execute_result"
                }
            ],
            "source": [
                "# se crea la lista\n",
                "data = [4, 2, 5, 8, 6]\n",
                "data"
            ]
        },
        {
            "cell_type": "code",
            "execution_count": 61,
            "id": "090c1232",
            "metadata": {},
            "outputs": [],
            "source": [
                "# creamos una función para calcular la media; se indica flotante para que asegurar que los valores sean flotantes\n",
                "def media(data):\n",
                "    return float(sum(data))/float(len(data))"
            ]
        },
        {
            "cell_type": "code",
            "execution_count": 62,
            "id": "97bd13f9",
            "metadata": {},
            "outputs": [
                {
                    "name": "stdout",
                    "output_type": "stream",
                    "text": [
                        "5.0\n"
                    ]
                }
            ],
            "source": [
                "print(media(data))"
            ]
        },
        {
            "cell_type": "code",
            "execution_count": 63,
            "id": "dc650bed",
            "metadata": {},
            "outputs": [],
            "source": [
                "# creamos una función para calcular la desviación estandar llamando la función de la media:\n",
                "\n",
                "#importamos la libreria math para traer la función de raíz cuadrada\n",
                "import math\n",
                "\n",
                "# función; se indica flotante para que asegurar que los valores sean flotantes\n",
                "def desviacion(data):\n",
                "    sigma = 0\n",
                "    for x in (data):\n",
                "        sigma += (float(x) - media(data))**2\n",
                "    sigma = (sigma/float(len(data)))**(1/2)\n",
                "    return sigma    "
            ]
        },
        {
            "cell_type": "code",
            "execution_count": 64,
            "id": "c5af1dc0",
            "metadata": {},
            "outputs": [
                {
                    "name": "stdout",
                    "output_type": "stream",
                    "text": [
                        "2.0\n"
                    ]
                }
            ],
            "source": [
                "print(desviacion(data))"
            ]
        },
        {
            "cell_type": "code",
            "execution_count": 65,
            "id": "32993d1c",
            "metadata": {},
            "outputs": [
                {
                    "data": {
                        "text/plain": [
                            "np.True_"
                        ]
                    },
                    "execution_count": 65,
                    "metadata": {},
                    "output_type": "execute_result"
                }
            ],
            "source": [
                "#se hace validación de la función\n",
                "import numpy as np\n",
                "np.std(data) == desviacion(data)"
            ]
        }
    ],
    "metadata": {
        "kernelspec": {
            "display_name": "Python 3",
            "language": "python",
            "name": "python3"
        },
        "language_info": {
            "codemirror_mode": {
                "name": "ipython",
                "version": 3
            },
            "file_extension": ".py",
            "mimetype": "text/x-python",
            "name": "python",
            "nbconvert_exporter": "python",
            "pygments_lexer": "ipython3",
            "version": "3.11.4"
        }
    },
    "nbformat": 4,
    "nbformat_minor": 5
}
